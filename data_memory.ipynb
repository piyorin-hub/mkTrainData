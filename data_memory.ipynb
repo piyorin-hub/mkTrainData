{
 "cells": [
  {
   "cell_type": "code",
   "execution_count": 1,
   "metadata": {},
   "outputs": [],
   "source": [
    "import tkinter as tk\n",
    "import sys\n",
    "import matplotlib.pyplot as plt\n",
    "import pandas as pd\n",
    "import numpy as np\n",
    "import math\n",
    "import openpyxl"
   ]
  },
  {
   "cell_type": "code",
   "execution_count": 2,
   "metadata": {},
   "outputs": [
    {
     "data": {
      "text/plain": [
       "''"
      ]
     },
     "execution_count": 2,
     "metadata": {},
     "output_type": "execute_result"
    }
   ],
   "source": [
    "root = tk.Tk()\n",
    "root.title(\"Data Memory\")\n",
    "root.geometry(\"1600x1000\")\n"
   ]
  },
  {
   "cell_type": "code",
   "execution_count": 7,
   "metadata": {},
   "outputs": [],
   "source": [
    "def read_excel_file(file_path):\n",
    "    workbook = openpyxl.load_workbook(file_path)\n",
    "    sheet = workbook.active\n",
    "\n",
    "    # カラムの読み込み\n",
    "    columns = []\n",
    "    for column in sheet.iter_cols():\n",
    "        column_name = column[0].value\n",
    "        columns.append(column_name)\n",
    "\n",
    "    # 内容の読み込み\n",
    "    data = []\n",
    "    for row in sheet.iter_rows(min_row=3):\n",
    "        row_data = [cell.value for cell in row]\n",
    "        data.append(row_data)\n",
    "\n",
    "    workbook.close()\n",
    "    return columns, data"
   ]
  },
  {
   "cell_type": "code",
   "execution_count": 8,
   "metadata": {},
   "outputs": [],
   "source": [
    "def create_gui(columns, data):\n",
    "    root = tk.Tk()\n",
    "    root.title(\"Excel Writer\")\n",
    "\n",
    "    # カラムの表示\n",
    "    for i, column in enumerate(columns):\n",
    "        label = tk.Label(root, text=column)\n",
    "        label.grid(row=0, column=i)\n",
    "\n",
    "    # 内容の表示\n",
    "    for i, row in enumerate(data):\n",
    "        for j, value in enumerate(row):\n",
    "            label = tk.Label(root, text=value)\n",
    "            label.grid(row=i+1, column=j)\n",
    "\n",
    "    root.mainloop()\n",
    "    "
   ]
  },
  {
   "cell_type": "code",
   "execution_count": 9,
   "metadata": {},
   "outputs": [],
   "source": [
    "# Excelファイルのパス\n",
    "excel_file_path = \"example.xlsx\"\n",
    "\n",
    "# Excelファイルの読み込み\n",
    "columns, data = read_excel_file(excel_file_path)\n",
    "\n",
    "# GUIの作成と表示\n",
    "create_gui(columns, data)"
   ]
  }
 ],
 "metadata": {
  "kernelspec": {
   "display_name": "base",
   "language": "python",
   "name": "python3"
  },
  "language_info": {
   "codemirror_mode": {
    "name": "ipython",
    "version": 3
   },
   "file_extension": ".py",
   "mimetype": "text/x-python",
   "name": "python",
   "nbconvert_exporter": "python",
   "pygments_lexer": "ipython3",
   "version": "3.10.9"
  },
  "orig_nbformat": 4
 },
 "nbformat": 4,
 "nbformat_minor": 2
}
